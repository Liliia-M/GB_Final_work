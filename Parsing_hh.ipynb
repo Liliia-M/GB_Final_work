{
  "cells": [
    {
      "cell_type": "code",
      "execution_count": 1,
      "metadata": {
        "id": "GoqpaiGCUYIN"
      },
      "outputs": [],
      "source": [
        "import json \n",
        "import requests\n",
        "from IPython.display import clear_output\n",
        "import pandas as pd\n",
        "from pandas import json_normalize\n",
        "import numpy as np\n",
        "from datetime import datetime, date, timedelta\n",
        "from tqdm import tqdm, trange\n",
        "import warnings\n",
        "warnings.filterwarnings(\"ignore\")"
      ]
    },
    {
      "cell_type": "code",
      "execution_count": 2,
      "metadata": {
        "cellView": "form",
        "id": "TNi3FecgVLIe"
      },
      "outputs": [],
      "source": [
        "#@title Константные значения\n",
        "#@markdown За сколько дней осуществляется парсинг\n",
        "N =  25#@param {type:\"integer\"}\n",
        "#@markdown Текущий адрес API hh.ru\n",
        "url = 'https://api.hh.ru/vacancies' #@param {type:\"string\"}"
      ]
    },
    {
      "cell_type": "code",
      "execution_count": 3,
      "metadata": {
        "colab": {
          "base_uri": "https://localhost:8080/",
          "height": 85
        },
        "id": "W88styT2UdXo",
        "outputId": "f4be470f-3b02-4651-aee9-5631862c0b52"
      },
      "outputs": [
        {
          "name": "stderr",
          "output_type": "stream",
          "text": [
            "100%|██████████| 19/19 [00:36<00:00,  1.91s/it]\n"
          ]
        }
      ],
      "source": [
        "df = pd.DataFrame() # Новый дата фрейм\n",
        "for dayLeft in range(N-1, -1, -1): # цикл обхода дней\n",
        "    data=[]\n",
        "    startDate = datetime.strftime(datetime.now() - timedelta(days=N), '%Y-%m-%d') # Дата начала парсинга\n",
        "    for i in trange(1,20): #Ограничение страниц (2к записей, 19 стр)\n",
        "        print('\\nОбрабатывается дата: ' + (str)(startDate) + '\\nОсталось: ' + (str)(dayLeft) + '\\\\' + (str)(N))\n",
        "        parametrs = {'specialization': '1','per_page':'100', 'page':i, \"date_from\":startDate, 'date_to':startDate} #параметры для API hh.ru\n",
        "        jsonResponce = requests.get(url, params=parametrs).json()\n",
        "        if str(jsonResponce).startswith(\"{'items': [], 'found\"): # если на странице уже нет рез-тов, тогда дропаем цикл\n",
        "            break\n",
        "        data.append(jsonResponce)\n",
        "        vacancy_details = data[0]['items'][0].keys()\n",
        "        df_temp = pd.DataFrame() #дата фрейм дня\n",
        "        ind = 0\n",
        "        for a in range(len(data)):\n",
        "            try:\n",
        "                for j in range(len(data[a]['items'])):\n",
        "                    df_temp.loc[ind, 'name'] = data[a]['items'][j]['name']\n",
        "                    df_temp.loc[ind, 'area'] = data[a]['items'][j]['area']['name']\n",
        "                    if data[a]['items'][j]['salary']:\n",
        "                        df_temp.loc[ind, 'minSalary'] = data[a]['items'][j]['salary']['from']\n",
        "                        df_temp.loc[ind, 'maxSalary'] = data[a]['items'][j]['salary']['to']\n",
        "                    df_temp.loc[ind, 'employer'] = data[a]['items'][j]['employer']['name']\n",
        "                    df_temp.loc[ind, 'published_at'] = data[a]['items'][j]['published_at']\n",
        "                    df_temp.loc[ind, 'schedule'] = data[a]['items'][j]['schedule']['name']\n",
        "                    df_temp.loc[ind, 'responsibility'] = data[a]['items'][j]['snippet']['responsibility']\n",
        "                    df_temp.loc[ind, 'requirement'] = data[a]['items'][j]['snippet']['requirement']\n",
        "                    ind+=1\n",
        "            except Exception:\n",
        "                print(Exception)\n",
        "        clear_output() \n",
        "    df = pd.concat([df, df_temp], ignore_index=True)\n",
        "\n",
        "\n"
      ]
    },
    {
      "cell_type": "code",
      "execution_count": 4,
      "metadata": {
        "cellView": "form",
        "colab": {
          "base_uri": "https://localhost:8080/",
          "height": 34
        },
        "id": "dMrTRvB0iH0O",
        "outputId": "5e071e31-dacc-4bf6-cfbd-5b8aedde7162"
      },
      "outputs": [
        {
          "name": "stdout",
          "output_type": "stream",
          "text": [
            "Сохранено как hh_ru_2024-06-23-2024-07-18.csv\n"
          ]
        }
      ],
      "source": [
        "#@markdown Сохраняем в csv файл\n",
        "df.to_csv('hh_ru_'+startDate+'-'+datetime.strftime(datetime.now(), '%Y-%m-%d')+'.csv')\n",
        "print('Сохранено как hh_ru_'+startDate+'-'+datetime.strftime(datetime.now(), '%Y-%m-%d')+'.csv')"
      ]
    }
  ],
  "metadata": {
    "colab": {
      "name": "lab3.ipynb",
      "provenance": []
    },
    "kernelspec": {
      "display_name": "Python 3",
      "name": "python3"
    },
    "language_info": {
      "codemirror_mode": {
        "name": "ipython",
        "version": 3
      },
      "file_extension": ".py",
      "mimetype": "text/x-python",
      "name": "python",
      "nbconvert_exporter": "python",
      "pygments_lexer": "ipython3",
      "version": "3.8.10"
    }
  },
  "nbformat": 4,
  "nbformat_minor": 0
}
